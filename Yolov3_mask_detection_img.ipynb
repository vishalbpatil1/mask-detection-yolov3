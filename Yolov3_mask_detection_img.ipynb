{
 "cells": [
  {
   "cell_type": "code",
   "execution_count": 6,
   "metadata": {},
   "outputs": [],
   "source": [
    "# Import libraries\n",
    "import cv2\n",
    "import numpy as np\n",
    "import glob\n",
    "import random"
   ]
  },
  {
   "cell_type": "code",
   "execution_count": 8,
   "metadata": {},
   "outputs": [],
   "source": [
    "weight_path='C:\\\\Users\\\\Vishal\\\\AIS_vision100.ai\\\\mask_detection\\\\Yolov3_mask_detection.weights' #weight file path\n",
    "cfg_path='C:\\\\Users\\\\Vishal\\\\AIS_vision100.ai\\\\mask_detection\\\\yolov3_testing.cfg' # Configuration file path\n",
    "image_file_path = 'C:\\\\Users\\\\Vishal\\\\AIS_vision100.ai\\\\mask_detection\\\\test\\\\Mask_1.jpg'   # test images folder path"
   ]
  },
  {
   "cell_type": "code",
   "execution_count": 9,
   "metadata": {},
   "outputs": [
    {
     "name": "stdout",
     "output_type": "stream",
     "text": [
      "2 ] x_value: 316 y_value: 95 width : 64 height : 64 class :  mask\n",
      "5 ] x_value: 455 y_value: 255 width : 71 height : 70 class :  mask\n",
      "6 ] x_value: 741 y_value: 295 width : 75 height : 69 class :  mask\n",
      "7 ] x_value: 7 y_value: 377 width : 126 height : 203 class :  mask\n",
      "8 ] x_value: 17 y_value: 1 width : 70 height : 29 class :  mask\n",
      "9 ] x_value: 301 y_value: 14 width : 44 height : 59 class :  mask\n",
      "10 ] x_value: 404 y_value: 22 width : 40 height : 46 class :  No_mask\n",
      "11 ] x_value: 668 y_value: 65 width : 38 height : 61 class :  mask\n",
      "12 ] x_value: 233 y_value: 92 width : 46 height : 51 class :  mask\n",
      "14 ] x_value: 572 y_value: 124 width : 35 height : 42 class :  No_mask\n",
      "15 ] x_value: 807 y_value: 113 width : 35 height : 52 class :  mask\n",
      "16 ] x_value: 529 y_value: 154 width : 45 height : 55 class :  No_mask\n",
      "17 ] x_value: 915 y_value: 223 width : 40 height : 47 class :  mask\n"
     ]
    }
   ],
   "source": [
    "# Load Yolo\n",
    "net = cv2.dnn.readNet(weight_path,cfg_path)\n",
    "\n",
    "classes = [\"mask\",\"mask_50\",\"No_mask\"]\n",
    "layer_names = net.getLayerNames()\n",
    "output_layers = [layer_names[i[0] - 1] for i in net.getUnconnectedOutLayers()]\n",
    "colors = (0,0,255)\n",
    "# Loading image\n",
    "img=cv2.imread(image_file_path)\n",
    "img=cv2.resize(img,(1000,700))\n",
    "#img = cv2.resize(img, None, fx=0.4, fy=0.4)\n",
    "\n",
    "height, width, channels = img.shape\n",
    "\n",
    "# Detecting objects\n",
    "blob = cv2.dnn.blobFromImage(img, 0.00392, (416, 416), (0, 0, 0), True, crop=False)\n",
    "\n",
    "net.setInput(blob)\n",
    "outs = net.forward(output_layers)\n",
    "\n",
    "# Showing informations on the screen\n",
    "class_ids = []\n",
    "confidences = []\n",
    "boxes = []\n",
    "for out in outs:\n",
    "    for detection in out:\n",
    "        scores = detection[5:]\n",
    "        class_id = np.argmax(scores)\n",
    "        confidence = scores[class_id]\n",
    "        if confidence > 0.5:\n",
    "            # Object detected\n",
    "            center_x = int(detection[0] * width)\n",
    "            center_y = int(detection[1] * height)\n",
    "            w = int(detection[2] * width)\n",
    "            h = int(detection[3] * height)\n",
    "\n",
    "            # Rectangle coordinates\n",
    "            x = int(center_x - w / 2)\n",
    "            y = int(center_y - h / 2)\n",
    "\n",
    "            boxes.append([x, y, w, h])\n",
    "            confidences.append(float(confidence))\n",
    "            class_ids.append(class_id)\n",
    "\n",
    "indexes = cv2.dnn.NMSBoxes(boxes, confidences, 0.5, 0.4)\n",
    "font = cv2.FONT_HERSHEY_PLAIN\n",
    "for i in range(len(boxes)):\n",
    "    if i in indexes:\n",
    "        x, y, w, h = boxes[i]\n",
    "        label = str(classes[class_ids[i]])\n",
    "        print(i,']', 'x_value:',x, 'y_value:',y ,'width :',w ,'height :',h , 'class : ',label)\n",
    "        cv2.rectangle(img, (x, y), (x + w, y + h), colors, 2)\n",
    "        cv2.putText(img, label, (x, y + 30), font, 1, colors, 2)\n",
    "\n",
    "\n",
    "cv2.imshow(\"Image\", img)\n",
    "cv2.waitKey(0)   #  To press any key to close windows\n",
    "cv2.destroyAllWindows()\n"
   ]
  },
  {
   "cell_type": "code",
   "execution_count": null,
   "metadata": {},
   "outputs": [],
   "source": []
  }
 ],
 "metadata": {
  "kernelspec": {
   "display_name": "Python 3",
   "language": "python",
   "name": "python3"
  },
  "language_info": {
   "codemirror_mode": {
    "name": "ipython",
    "version": 3
   },
   "file_extension": ".py",
   "mimetype": "text/x-python",
   "name": "python",
   "nbconvert_exporter": "python",
   "pygments_lexer": "ipython3",
   "version": "3.7.5"
  }
 },
 "nbformat": 4,
 "nbformat_minor": 2
}
