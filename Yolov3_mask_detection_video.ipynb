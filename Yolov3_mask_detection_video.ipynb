{
 "cells": [
  {
   "cell_type": "markdown",
   "metadata": {},
   "source": [
    "Yolo mask detection in video"
   ]
  },
  {
   "cell_type": "code",
   "execution_count": 7,
   "metadata": {},
   "outputs": [],
   "source": [
    "import cv2\n",
    "import numpy as np\n",
    "# change file location according to your drive\n",
    "weight_path='C:\\\\Users\\\\Vishal\\\\AIS_vision100.ai\\\\mask_detection\\\\Yolov3_mask_detection.weights' #weight file path\n",
    "cfg_path='C:\\\\Users\\\\Vishal\\\\AIS_vision100.ai\\\\mask_detection\\\\yolov3_testing.cfg' # Configuration file path \n",
    "classes = ['Mask Found','Mask cover 50 %','Mask Not Found']\n",
    "threshold=0.6\n",
    "font = cv2.FONT_HERSHEY_PLAIN\n",
    "font_=cv2.FONT_HERSHEY_COMPLEX\n",
    "net = cv2.dnn.readNet(weight_path,cfg_path)\n",
    "\n",
    "cap = cv2.VideoCapture(0)\n",
    "while True:\n",
    "    _, img = cap.read()\n",
    "    height, width, _ = img.shape\n",
    "\n",
    "    blob = cv2.dnn.blobFromImage(img, 1/255, (416, 416), (0,0,0), swapRB=True, crop=False)\n",
    "    net.setInput(blob)\n",
    "    output_layers_names = net.getUnconnectedOutLayersNames()\n",
    "    layerOutputs = net.forward(output_layers_names)\n",
    "\n",
    "    boxes = []\n",
    "    confidences = []\n",
    "    class_ids = []\n",
    "\n",
    "    for output in layerOutputs:\n",
    "        for detection in output:\n",
    "            scores = detection[5:]\n",
    "            class_id = np.argmax(scores)\n",
    "            confidence = scores[class_id]\n",
    "            if confidence > threshold:\n",
    "                center_x = int(detection[0]*width)\n",
    "                center_y = int(detection[1]*height)\n",
    "                h= int(detection[2]*width)\n",
    "                w= int(detection[3]*height*0.8)\n",
    "\n",
    "                x = int(center_x - w/2)\n",
    "                y = int(center_y - h/2)\n",
    "\n",
    "                boxes.append([x, y, w, h])\n",
    "                confidences.append((float(confidence)))\n",
    "                class_ids.append(class_id)\n",
    "    cv2.putText(img,str('AIS Private Ltd'), (100,50), font_, 2, (250,250,250), 2)\n",
    "    indexes = cv2.dnn.NMSBoxes(boxes, confidences, 0.5, 0.4)\n",
    "    if len(indexes)>0:\n",
    "        for i in indexes.flatten():\n",
    "            x, y, w, h = boxes[i]\n",
    "            label = str(classes[class_ids[i]])\n",
    "            confidence = str(round(confidences[i],2))\n",
    "            #############\n",
    "            if label==classes[2]:\n",
    "                cv2.rectangle(img,(x,y), (x+h,y+w), (0,0,255), 1)\n",
    "                cv2.putText(img,str(label), (x,y-5), font, 1, (0,0,255), 2)\n",
    "                cv2.putText(img,str(float(confidence)*100)+'%', (x,y-30), font, 1, (0,0,255), 2)\n",
    "            if label==classes[0]:\n",
    "                cv2.rectangle(img, (x,y), (x+h,y+w), (255,0,0), 1)\n",
    "                cv2.putText(img,str(label), (x,y-5), font, 1, (255,0,0), 2)\n",
    "                cv2.putText(img,str(float(confidence)*100)+'%', (x,y-30), font, 1, (255,0,0), 2)\n",
    "            if label==classes[1]:\n",
    "                cv2.rectangle(img, (x,y), (x+h,y+w), (0,255,0), 1)\n",
    "                cv2.putText(img,str(label), (x,y-5), font, 1, (0,255,0), 2)\n",
    "                cv2.putText(img,str(float(confidence)*100)+'%', (x,y-30), font, 1, (0,255,0), 2)\n",
    "                \n",
    "    cv2.imshow('Image', img)\n",
    "    key=cv2.waitKey(1)\n",
    "    if key ==ord('v'): \n",
    "        break \n",
    "cap.release()\n",
    "cv2.destroyAllWindows()"
   ]
  },
  {
   "cell_type": "code",
   "execution_count": null,
   "metadata": {},
   "outputs": [],
   "source": []
  },
  {
   "cell_type": "code",
   "execution_count": null,
   "metadata": {},
   "outputs": [],
   "source": []
  }
 ],
 "metadata": {
  "kernelspec": {
   "display_name": "Python 3",
   "language": "python",
   "name": "python3"
  },
  "language_info": {
   "codemirror_mode": {
    "name": "ipython",
    "version": 3
   },
   "file_extension": ".py",
   "mimetype": "text/x-python",
   "name": "python",
   "nbconvert_exporter": "python",
   "pygments_lexer": "ipython3",
   "version": "3.7.5"
  }
 },
 "nbformat": 4,
 "nbformat_minor": 2
}
